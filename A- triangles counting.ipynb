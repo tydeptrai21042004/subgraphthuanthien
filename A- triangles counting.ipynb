{
 "cells": [
  {
   "cell_type": "code",
   "execution_count": 26,
   "id": "b65de2f1-5f16-4cd6-a4ce-c9b8f80c433f",
   "metadata": {},
   "outputs": [
    {
     "name": "stdout",
     "output_type": "stream",
     "text": [
      "Computing triangles...\n",
      "Computation completed.\n",
      "Number of triangles: 717719\n",
      "Elapsed time: 11.784523487091064 seconds\n"
     ]
    }
   ],
   "source": [
    "from scipy.io import mmread\n",
    "from scipy.sparse import csr_matrix\n",
    "import numpy as np\n",
    "import time\n",
    "\n",
    "def count_triangles_from_mmio(adj_matrix_file):\n",
    "    adjacency_matrix = mmread(adj_matrix_file).tocsr()\n",
    "    num_nodes = max(adjacency_matrix.shape)\n",
    "    padded_matrix = csr_matrix((adjacency_matrix.data, adjacency_matrix.indices,\n"
    "                 adjacency_matrix.indptr),shape=(num_nodes, num_nodes))\n",
    "    print(\"Computing triangles...\")\n",
    "    start_time = time.time()\n",
    "    triangles_matrix = padded_matrix @ padded_matrix @ padded_matrix\n",
    "    triangles_count = int(triangles_matrix.diagonal().sum() / 6)\n",
    "    end_time = time.time()\n",
    "    print(\"Computation completed.\")\n",
    "    elapsed_time = end_time - start_time\n",
    "    return triangles_count, elapsed_time\n",
    "mmio_file_path = 'amazon0302_adj.mmio'\n",
    "triangles_count, elapsed_time = count_triangles_from_mmio(mmio_file_path)\n",
    "print(\"Number of triangles:\", triangles_count)\n",
    "print(\"Elapsed time:\", elapsed_time, \"seconds\")\n"
   ]
  },
  {
   "cell_type": "code",
   "execution_count": 27,
   "id": "cacf794c-df7c-459b-9ff1-6579f398acbe",
   "metadata": {},
   "outputs": [
    {
     "name": "stdout",
     "output_type": "stream",
     "text": [
      "Computing triangles...\n",
      "Computation completed.\n",
      "Number of triangles: 3686467\n",
      "Elapsed time: 132.08720898628235 seconds\n"
     ]
    }
   ],
   "source": [
    "from scipy.io import mmread\n",
    "from scipy.sparse import csr_matrix\n",
    "import numpy as np\n",
    "import time\n",
    "\n",
    "def count_triangles_from_mmio(adj_matrix_file):\n",
    "    adjacency_matrix = mmread(adj_matrix_file).tocsr()\n",
    "    num_nodes = max(adjacency_matrix.shape)\n",
    "    padded_matrix = csr_matrix((adjacency_matrix.data, adjacency_matrix.indices, adjacency_matrix.indptr),\n",
    "                              shape=(num_nodes, num_nodes))\n",
    "    print(\"Computing triangles...\")\n",
    "    start_time = time.time()\n",
    "    triangles_matrix = padded_matrix @ padded_matrix @ padded_matrix\n",
    "    triangles_count = int(triangles_matrix.diagonal().sum() / 6)\n",
    "    end_time = time.time()\n",
    "    print(\"Computation completed.\")\n",
    "    elapsed_time = end_time - start_time\n",
    "    return triangles_count, elapsed_time\n",
    "mmio_file_path = 'amazon0312_adj.mmio'\n",
    "triangles_count, elapsed_time = count_triangles_from_mmio(mmio_file_path)\n",
    "print(\"Number of triangles:\", triangles_count)\n",
    "print(\"Elapsed time:\", elapsed_time, \"seconds\")"
   ]
  },
  {
   "cell_type": "code",
   "execution_count": 28,
   "id": "bb533df1-52ce-4248-8099-b245b47bca4b",
   "metadata": {},
   "outputs": [
    {
     "name": "stdout",
     "output_type": "stream",
     "text": [
      "Computing triangles...\n",
      "Computation completed.\n",
      "Number of triangles: 6584\n",
      "Elapsed time: 0.4324648380279541 seconds\n"
     ]
    }
   ],
   "source": [
    "from scipy.io import mmread\n",
    "from scipy.sparse import csr_matrix\n",
    "import numpy as np\n",
    "import time\n",
    "\n",
    "def count_triangles_from_mmio(adj_matrix_file):\n",
    "    adjacency_matrix = mmread(adj_matrix_file).tocsr()\n",
    "    num_nodes = max(adjacency_matrix.shape)\n",
    "    padded_matrix = csr_matrix((adjacency_matrix.data, adjacency_matrix.indices, adjacency_matrix.indptr),\n",
    "                              shape=(num_nodes, num_nodes))\n",
    "    print(\"Computing triangles...\")\n",
    "    start_time = time.time()\n",
    "    triangles_matrix = padded_matrix @ padded_matrix @ padded_matrix\n",
    "    triangles_count = int(triangles_matrix.diagonal().sum() / 6)\n",
    "    end_time = time.time()\n",
    "    print(\"Computation completed.\")\n",
    "    elapsed_time = end_time - start_time\n",
    "    return triangles_count, elapsed_time\n",
    "mmio_file_path = 'as20000102_adj.mmio'\n",
    "triangles_count, elapsed_time = count_triangles_from_mmio(mmio_file_path)\n",
    "print(\"Number of triangles:\", triangles_count)\n",
    "print(\"Elapsed time:\", elapsed_time, \"seconds\")"
   ]
  },
  {
   "cell_type": "code",
   "execution_count": 29,
   "id": "a44fc586-2660-4cea-8974-ae83845c3ff3",
   "metadata": {},
   "outputs": [
    {
     "name": "stdout",
     "output_type": "stream",
     "text": [
      "Computing triangles...\n",
      "Computation completed.\n",
      "Number of triangles: 1351441\n",
      "Elapsed time: 4.3490869998931885 seconds\n"
     ]
    }
   ],
   "source": [
    "from scipy.io import mmread\n",
    "from scipy.sparse import csr_matrix\n",
    "import numpy as np\n",
    "import time\n",
    "\n",
    "def count_triangles_from_mmio(adj_matrix_file):\n",
    "    adjacency_matrix = mmread(adj_matrix_file).tocsr()\n",
    "    num_nodes = max(adjacency_matrix.shape)\n",
    "    padded_matrix = csr_matrix((adjacency_matrix.data, adjacency_matrix.indices, adjacency_matrix.indptr),\n",
    "                              shape=(num_nodes, num_nodes))\n",
    "    print(\"Computing triangles...\")\n",
    "    start_time = time.time()\n",
    "    triangles_matrix = padded_matrix @ padded_matrix @ padded_matrix\n",
    "    triangles_count = int(triangles_matrix.diagonal().sum() / 6)\n",
    "    end_time = time.time()\n",
    "    print(\"Computation completed.\")\n",
    "    elapsed_time = end_time - start_time\n",
    "    return triangles_count, elapsed_time\n",
    "mmio_file_path = 'ca-AstroPh_adj.mmio'\n",
    "triangles_count, elapsed_time = count_triangles_from_mmio(mmio_file_path)\n",
    "print(\"Number of triangles:\", triangles_count)\n",
    "print(\"Elapsed time:\", elapsed_time, \"seconds\")"
   ]
  },
  {
   "cell_type": "code",
   "execution_count": 30,
   "id": "fe40566a-61d6-4ceb-a8e0-cc861f45260f",
   "metadata": {},
   "outputs": [
    {
     "name": "stdout",
     "output_type": "stream",
     "text": [
      "Computing triangles...\n",
      "Computation completed.\n",
      "Number of triangles: 173361\n",
      "Elapsed time: 0.8214828968048096 seconds\n"
     ]
    }
   ],
   "source": [
    "from scipy.io import mmread\n",
    "from scipy.sparse import csr_matrix\n",
    "import numpy as np\n",
    "import time\n",
    "\n",
    "def count_triangles_from_mmio(adj_matrix_file):\n",
    "    adjacency_matrix = mmread(adj_matrix_file).tocsr()\n",
    "    num_nodes = max(adjacency_matrix.shape)\n",
    "    padded_matrix = csr_matrix((adjacency_matrix.data, adjacency_matrix.indices, adjacency_matrix.indptr),\n",
    "                              shape=(num_nodes, num_nodes))\n",
    "    print(\"Computing triangles...\")\n",
    "    start_time = time.time()\n",
    "    triangles_matrix = padded_matrix @ padded_matrix @ padded_matrix\n",
    "    triangles_count = int(triangles_matrix.diagonal().sum() / 6)\n",
    "    end_time = time.time()\n",
    "    print(\"Computation completed.\")\n",
    "    elapsed_time = end_time - start_time\n",
    "    return triangles_count, elapsed_time\n",
    "mmio_file_path = 'ca-CondMat_adj.mmio'\n",
    "triangles_count, elapsed_time = count_triangles_from_mmio(mmio_file_path)\n",
    "print(\"Number of triangles:\", triangles_count)\n",
    "print(\"Elapsed time:\", elapsed_time, \"seconds\")"
   ]
  },
  {
   "cell_type": "code",
   "execution_count": 31,
   "id": "351fd147-c6a7-4921-83c3-25c383613349",
   "metadata": {},
   "outputs": [
    {
     "name": "stdout",
     "output_type": "stream",
     "text": [
      "Computing triangles...\n",
      "Computation completed.\n",
      "Number of triangles: 48260\n",
      "Elapsed time: 0.03274345397949219 seconds\n"
     ]
    }
   ],
   "source": [
    "from scipy.io import mmread\n",
    "from scipy.sparse import csr_matrix\n",
    "import numpy as np\n",
    "import time\n",
    "\n",
    "def count_triangles_from_mmio(adj_matrix_file):\n",
    "    adjacency_matrix = mmread(adj_matrix_file).tocsr()\n",
    "    num_nodes = max(adjacency_matrix.shape)\n",
    "    padded_matrix = csr_matrix((adjacency_matrix.data, adjacency_matrix.indices, adjacency_matrix.indptr),\n",
    "                              shape=(num_nodes, num_nodes))\n",
    "    print(\"Computing triangles...\")\n",
    "    start_time = time.time()\n",
    "    triangles_matrix = padded_matrix @ padded_matrix @ padded_matrix\n",
    "    triangles_count = int(triangles_matrix.diagonal().sum() / 6)\n",
    "    end_time = time.time()\n",
    "    print(\"Computation completed.\")\n",
    "    elapsed_time = end_time - start_time\n",
    "    return triangles_count, elapsed_time\n",
    "mmio_file_path = 'ca-GrQc_adj.mmio'\n",
    "triangles_count, elapsed_time = count_triangles_from_mmio(mmio_file_path)\n",
    "print(\"Number of triangles:\", triangles_count)\n",
    "print(\"Elapsed time:\", elapsed_time, \"seconds\")"
   ]
  },
  {
   "cell_type": "code",
   "execution_count": 2,
   "id": "62b8f820-ed51-4ae1-887d-0461f64e3b8c",
   "metadata": {},
   "outputs": [
    {
     "name": "stdout",
     "output_type": "stream",
     "text": [
      "Computing triangles...\n",
      "Computation completed.\n",
      "Number of triangles: 3358499\n",
      "Elapsed time: 5.546743392944336 seconds\n"
     ]
    }
   ],
   "source": [
    "from scipy.io import mmread\n",
    "from scipy.sparse import csr_matrix\n",
    "import numpy as np\n",
    "import time\n",
    "\n",
    "def count_triangles_from_mmio(adj_matrix_file):\n",
    "    adjacency_matrix = mmread(adj_matrix_file).tocsr()\n",
    "    num_nodes = max(adjacency_matrix.shape)\n",
    "    padded_matrix = csr_matrix((adjacency_matrix.data, adjacency_matrix.indices, adjacency_matrix.indptr),\n",
    "                              shape=(num_nodes, num_nodes))\n",
    "    print(\"Computing triangles...\")\n",
    "    start_time = time.time()\n",
    "    triangles_matrix = padded_matrix @ padded_matrix @ padded_matrix\n",
    "    triangles_count = int(triangles_matrix.diagonal().sum() / 6)\n",
    "    end_time = time.time()\n",
    "    print(\"Computation completed.\")\n",
    "    elapsed_time = end_time - start_time\n",
    "    return triangles_count, elapsed_time\n",
    "mmio_file_path = 'ca-HepPh_adj.mmio'\n",
    "triangles_count, elapsed_time = count_triangles_from_mmio(mmio_file_path)\n",
    "print(\"Number of triangles:\", triangles_count)\n",
    "print(\"Elapsed time:\", elapsed_time, \"seconds\")"
   ]
  },
  {
   "cell_type": "code",
   "execution_count": 33,
   "id": "4de308f9-f6b7-4c87-bccc-910fe1a160f1",
   "metadata": {},
   "outputs": [
    {
     "name": "stdout",
     "output_type": "stream",
     "text": [
      "Computing triangles...\n",
      "Computation completed.\n",
      "Number of triangles: 28339\n",
      "Elapsed time: 0.0869441032409668 seconds\n"
     ]
    }
   ],
   "source": [
    "from scipy.io import mmread\n",
    "from scipy.sparse import csr_matrix\n",
    "import numpy as np\n",
    "import time\n",
    "\n",
    "def count_triangles_from_mmio(adj_matrix_file):\n",
    "    adjacency_matrix = mmread(adj_matrix_file).tocsr()\n",
    "    num_nodes = max(adjacency_matrix.shape)\n",
    "    padded_matrix = csr_matrix((adjacency_matrix.data, adjacency_matrix.indices, adjacency_matrix.indptr),\n",
    "                              shape=(num_nodes, num_nodes))\n",
    "    print(\"Computing triangles...\")\n",
    "    start_time = time.time()\n",
    "    triangles_matrix = padded_matrix @ padded_matrix @ padded_matrix\n",
    "    triangles_count = int(triangles_matrix.diagonal().sum() / 6)\n",
    "    end_time = time.time()\n",
    "    print(\"Computation completed.\")\n",
    "    elapsed_time = end_time - start_time\n",
    "    return triangles_count, elapsed_time\n",
    "mmio_file_path = 'ca-HepTh_adj.mmio'\n",
    "triangles_count, elapsed_time = count_triangles_from_mmio(mmio_file_path)\n",
    "print(\"Number of triangles:\", triangles_count)\n",
    "print(\"Elapsed time:\", elapsed_time, \"seconds\")"
   ]
  },
  {
   "cell_type": "code",
   "execution_count": 34,
   "id": "197d29f0-4b28-486a-8639-ea2b7daf4e1c",
   "metadata": {},
   "outputs": [
    {
     "name": "stdout",
     "output_type": "stream",
     "text": [
      "Computing triangles...\n",
      "Computation completed.\n",
      "Number of triangles: 1276868\n",
      "Elapsed time: 12.067775011062622 seconds\n"
     ]
    }
   ],
   "source": [
    "from scipy.io import mmread\n",
    "from scipy.sparse import csr_matrix\n",
    "import numpy as np\n",
    "import time\n",
    "\n",
    "def count_triangles_from_mmio(adj_matrix_file):\n",
    "    adjacency_matrix = mmread(adj_matrix_file).tocsr()\n",
    "    num_nodes = max(adjacency_matrix.shape)\n",
    "    padded_matrix = csr_matrix((adjacency_matrix.data, adjacency_matrix.indices, adjacency_matrix.indptr),\n",
    "                              shape=(num_nodes, num_nodes))\n",
    "    print(\"Computing triangles...\")\n",
    "    start_time = time.time()\n",
    "    triangles_matrix = padded_matrix @ padded_matrix @ padded_matrix\n",
    "    triangles_count = int(triangles_matrix.diagonal().sum() / 6)\n",
    "    end_time = time.time()\n",
    "    print(\"Computation completed.\")\n",
    "    elapsed_time = end_time - start_time\n",
    "    return triangles_count, elapsed_time\n",
    "mmio_file_path = 'cit-HepPh_adj.mmio'\n",
    "triangles_count, elapsed_time = count_triangles_from_mmio(mmio_file_path)\n",
    "print(\"Number of triangles:\", triangles_count)\n",
    "print(\"Elapsed time:\", elapsed_time, \"seconds\")"
   ]
  },
  {
   "cell_type": "code",
   "execution_count": 35,
   "id": "81cc4f3d-054b-4237-8336-ca0e112f81ae",
   "metadata": {},
   "outputs": [
    {
     "name": "stdout",
     "output_type": "stream",
     "text": [
      "Computing triangles...\n",
      "Computation completed.\n",
      "Number of triangles: 1478735\n",
      "Elapsed time: 13.801090478897095 seconds\n"
     ]
    }
   ],
   "source": [
    "from scipy.io import mmread\n",
    "from scipy.sparse import csr_matrix\n",
    "import numpy as np\n",
    "import time\n",
    "\n",
    "def count_triangles_from_mmio(adj_matrix_file):\n",
    "    adjacency_matrix = mmread(adj_matrix_file).tocsr()\n",
    "    num_nodes = max(adjacency_matrix.shape)\n",
    "    padded_matrix = csr_matrix((adjacency_matrix.data, adjacency_matrix.indices, adjacency_matrix.indptr),\n",
    "                              shape=(num_nodes, num_nodes))\n",
    "    print(\"Computing triangles...\")\n",
    "    start_time = time.time()\n",
    "    triangles_matrix = padded_matrix @ padded_matrix @ padded_matrix\n",
    "    triangles_count = int(triangles_matrix.diagonal().sum() / 6)\n",
    "    end_time = time.time()\n",
    "    print(\"Computation completed.\")\n",
    "    elapsed_time = end_time - start_time\n",
    "    return triangles_count, elapsed_time\n",
    "mmio_file_path = 'cit-HepTh_adj.mmio'\n",
    "triangles_count, elapsed_time = count_triangles_from_mmio(mmio_file_path)\n",
    "print(\"Number of triangles:\", triangles_count)\n",
    "print(\"Elapsed time:\", elapsed_time, \"seconds\")"
   ]
  },
  {
   "cell_type": "code",
   "execution_count": 36,
   "id": "d0ff59a5-1bec-4c4a-8f5f-7a035049ccd8",
   "metadata": {},
   "outputs": [
    {
     "name": "stdout",
     "output_type": "stream",
     "text": [
      "Computing triangles...\n",
      "Computation completed.\n",
      "Number of triangles: 727044\n",
      "Elapsed time: 11.863686323165894 seconds\n"
     ]
    }
   ],
   "source": [
    "from scipy.io import mmread\n",
    "from scipy.sparse import csr_matrix\n",
    "import numpy as np\n",
    "import time\n",
    "\n",
    "def count_triangles_from_mmio(adj_matrix_file):\n",
    "    adjacency_matrix = mmread(adj_matrix_file).tocsr()\n",
    "    num_nodes = max(adjacency_matrix.shape)\n",
    "    padded_matrix = csr_matrix((adjacency_matrix.data, adjacency_matrix.indices, adjacency_matrix.indptr),\n",
    "                              shape=(num_nodes, num_nodes))\n",
    "    print(\"Computing triangles...\")\n",
    "    start_time = time.time()\n",
    "    triangles_matrix = padded_matrix @ padded_matrix @ padded_matrix\n",
    "    triangles_count = int(triangles_matrix.diagonal().sum() / 6)\n",
    "    end_time = time.time()\n",
    "    print(\"Computation completed.\")\n",
    "    elapsed_time = end_time - start_time\n",
    "    return triangles_count, elapsed_time\n",
    "mmio_file_path = 'email-Enron_adj.mmio'\n",
    "triangles_count, elapsed_time = count_triangles_from_mmio(mmio_file_path)\n",
    "print(\"Number of triangles:\", triangles_count)\n",
    "print(\"Elapsed time:\", elapsed_time, \"seconds\")"
   ]
  },
  {
   "cell_type": "code",
   "execution_count": 2,
   "id": "510d953b-65d4-4d67-b8fe-58d484402f18",
   "metadata": {},
   "outputs": [
    {
     "name": "stderr",
     "output_type": "stream",
     "text": [
      "INFO:__main__:processing Downloads\n",
      "INFO:__main__:reading adjacency matrix\n",
      "INFO:__main__:read time: 0.3766786999767646 seconds\n",
      "INFO:__main__:COO to CSR time : 0.021737599978223443 seconds\n",
      "INFO:__main__:reading incidence matrix\n",
      "INFO:__main__:read time: 0.7288717000046745 seconds\n",
      "INFO:__main__:COO to CSR time : 0.013296900026034564 seconds\n",
      "INFO:__main__:counting triangles\n",
      "INFO:__main__:triangle count time : 26.2147787999711 seconds\n",
      "INFO:__main__:number of triangles in Downloads : 267313.0\n"
     ]
    }
   ],
   "source": [
    "from time import perf_counter\n",
    "from glob import glob\n",
    "import os\n",
    "import logging\n",
    "\n",
    "def getlogger():\n",
    "    logger = logging.getLogger()\n",
    "    logging.basicConfig(level=logging.INFO)\n",
    "    logger = logging.getLogger(__name__)\n",
    "    return logger\n",
    "def triangle(adj_mtx_file, inc_mtx_file):\n",
    "    from pandas import read_csv\n",
    "    from scipy.sparse import coo_matrix\n",
    "    logger = getlogger()\n",
    "    dataset_name = os.path.split(os.path.split(adj_mtx_file)[0])[1]\n",
    "    logger.info('processing ' + dataset_name)\n",
    "    a = read_csv(adj_mtx_file, sep='\\s+', header=None, skiprows=2, nrows=1, dtype=float).values\n",
    "    M = int(a[0, 0])\n",
    "    N = int(a[0, 1])\n",
    "    logger.info('reading adjacency matrix')\n",
    "    t0 = perf_counter()\n",
    "    y = read_csv(adj_mtx_file, sep='\\s+', header=None, skiprows=3, dtype=float).values\n",
    "    t_read_adj = perf_counter() - t0\n",
    "    logger.info('read time: ' + str(t_read_adj) + ' seconds')\n",
    "    t0 = perf_counter()\n",
    "    A = coo_matrix((y[:, 2], (y[:, 0].astype(int) - 1, y[:, 1].astype(int) - 1)), shape=(M, N))\n",
    "    A = A + A.transpose()\n",
    "    adjMtx = A.tocsr()\n",
    "    t_adj_reshape = perf_counter() - t0\n",
    "    logger.info('COO to CSR time : ' + str(t_adj_reshape) + ' seconds')\n",
    "    \n",
    "    a = read_csv(inc_mtx_file, sep='\\s+', header=None, skiprows=2, nrows=1, dtype=float).values\n",
    "    M = int(a[0, 0])\n",
    "    N = int(a[0, 1])\n",
    "\n",
    "    # read incidence matrix\n",
    "    logger.info('reading incidence matrix')\n",
    "    t0 = perf_counter()\n",
    "    y = read_csv(inc_mtx_file, sep='\\s+', header=None, skiprows=3, dtype=float).values\n",
    "    t_read_inc = perf_counter() - t0\n",
    "    logger.info('read time: ' + str(t_read_inc) + ' seconds')\n",
    "\n",
    "    # reshape incidence matrix\n",
    "    t0 = perf_counter()\n",
    "    B = coo_matrix((y[:, 2], (y[:, 0].astype(int) - 1, y[:, 1].astype(int) - 1)), shape=(M, N))\n",
    "    incMtx = B.tocsr()\n",
    "    t_inc_reshape = perf_counter() - t0\n",
    "    logger.info('COO to CSR time : ' + str(t_inc_reshape) + ' seconds')\n",
    "\n",
    "    # count triangles\n",
    "    logger.info('counting triangles')\n",
    "    t0 = perf_counter()\n",
    "    C = adjMtx * incMtx\n",
    "    num_triangles = (C == 2).nnz / 3\n",
    "    t_triangle_count = perf_counter() - t0\n",
    "    logger.info('triangle count time : ' + str(t_triangle_count) + ' seconds')\n",
    "    logger.info('number of triangles in ' + dataset_name + ' : ' + str(num_triangles))\n",
    "\n",
    "    return (num_triangles, t_read_adj, t_adj_reshape, t_read_inc, t_inc_reshape, t_triangle_count)\n",
    "\n",
    "# Call the function with the appropriate file paths\n",
    "result = triangle(\"C:/Users/18521/Downloads/email-EuAll_adj.mmio\", \"C:/Users/18521/Downloads/email-EuAll_inc.mmio\")\n"
   ]
  },
  {
   "cell_type": "code",
   "execution_count": 2,
   "id": "558f69f7-debb-473e-80f6-a5f679078587",
   "metadata": {},
   "outputs": [
    {
     "name": "stdout",
     "output_type": "stream",
     "text": [
      "Computing for Downloads ...\n",
      "Number of triangles in Downloads : 267313.0\n",
      "Triangle count time: 22.446860900032334 seconds\n"
     ]
    }
   ],
   "source": [
    "from time import perf_counter\n",
    "from glob import glob\n",
    "import os\n",
    "from pandas import read_csv\n",
    "from scipy.sparse import coo_matrix\n",
    "\n",
    "def triangle(adj_mtx_file, inc_mtx_file):\n",
    "    dataset_name = os.path.split(os.path.split(adj_mtx_file)[0])[1]\n",
    "    print(\"Computing for\")\n",
    "    a = read_csv(adj_mtx_file, sep='\\s+', header=None, skiprows=2, nrows=1, dtype=float).values\n",
    "    M = int(a[0, 0])\n",
    "    N = int(a[0, 1])\n",
    "    y = read_csv(adj_mtx_file, sep='\\s+', header=None, skiprows=3, dtype=float).values\n",
    "    A = coo_matrix((y[:, 2], (y[:, 0].astype(int) - 1, y[:, 1].astype(int) - 1)), shape=(M, N))\n",
    "    A = A + A.transpose()\n",
    "    adjMtx = A.tocsr()\n",
    "    a = read_csv(inc_mtx_file, sep='\\s+', header=None, skiprows=2, nrows=1, dtype=float).values\n",
    "    M = int(a[0, 0])\n",
    "    N = int(a[0, 1])\n",
    "    y = read_csv(inc_mtx_file, sep='\\s+', header=None, skiprows=3, dtype=float).values\n",
    "    B = coo_matrix((y[:, 2], (y[:, 0].astype(int) - 1, y[:, 1].astype(int) - 1)), shape=(M, N))\n",
    "    incMtx = B.tocsr()\n",
    "    t0 = perf_counter()\n",
    "    C = adjMtx * incMtx\n",
    "    num_triangles = (C == 2).nnz / 3\n",
    "    t_triangle_count = perf_counter() - t0\n",
    "    print(\"Number of triangles in\", dataset_name, \":\", num_triangles)\n",
    "    print(\"Triangle count time:\", t_triangle_count, \"seconds\")\n",
    "    return num_triangles, t_triangle_count\n",
    "result = triangle(\"C:/Users/18521/Downloads/email-EuAll_adj.mmio\", \"C:/Users/18521/Downloads/email-EuAll_inc.mmio\")\n"
   ]
  }
 ],
 "metadata": {
  "kernelspec": {
   "display_name": "Python 3 (ipykernel)",
   "language": "python",
   "name": "python3"
  },
  "language_info": {
   "codemirror_mode": {
    "name": "ipython",
    "version": 3
   },
   "file_extension": ".py",
   "mimetype": "text/x-python",
   "name": "python",
   "nbconvert_exporter": "python",
   "pygments_lexer": "ipython3",
   "version": "3.11.5"
  }
 },
 "nbformat": 4,
 "nbformat_minor": 5
}
