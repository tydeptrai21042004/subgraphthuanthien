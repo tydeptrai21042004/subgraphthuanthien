{
 "cells": [
  {
   "cell_type": "code",
   "execution_count": 2,
   "id": "7ac91869-48e7-4a73-9a1e-cae7f653609e",
   "metadata": {},
   "outputs": [
    {
     "name": "stdout",
     "output_type": "stream",
     "text": [
      "The maximal k-truss (kmax) is: 4\n"
     ]
    }
   ],
   "source": [
    "import networkx as nx\n",
    "\n",
    "def find_maximal_k_truss(graph):\n",
    "    k = 3  # Start with the smallest non-trivial truss\n",
    "    while True:\n",
    "        # Compute k-truss decomposition\n",
    "        truss_decomposition = nx.k_truss(graph, k=k)\n",
    "\n",
    "        # Check if the set of satisfying edges is non-empty\n",
    "        satisfying_edges = truss_decomposition.edges()\n",
    "\n",
    "        if satisfying_edges:\n",
    "            # Move to the next value of k\n",
    "            k += 1\n",
    "        else:\n",
    "            # The previous value of k is the maximal k-truss\n",
    "            kmax = k - 1\n",
    "            return kmax\n",
    "\n",
    "# Example usage:\n",
    "# Create a sample graph (replace this with your graph)\n",
    "G = nx.erdos_renyi_graph(100, 0.1)\n",
    "\n",
    "# Find the maximal k-truss\n",
    "maximal_k_truss = find_maximal_k_truss(G)\n",
    "\n",
    "print(f\"The maximal k-truss (kmax) is: {maximal_k_truss}\")\n"
   ]
  },
  {
   "cell_type": "code",
   "execution_count": 3,
   "id": "073d7665-178f-49c9-ab88-6654a4054d8e",
   "metadata": {},
   "outputs": [
    {
     "name": "stdout",
     "output_type": "stream",
     "text": [
      "The maximal k-truss (kmax) is: 5\n"
     ]
    }
   ],
   "source": [
    "import networkx as nx\n",
    "import scipy.io\n",
    "\n",
    "def read_sparse_matrix(file_path):\n",
    "    # Read sparse matrix in Matrix Market format\n",
    "    mat = scipy.io.mmread(file_path)\n",
    "    return mat\n",
    "\n",
    "def convert_sparse_matrix_to_graph(sparse_matrix):\n",
    "    # Convert the sparse matrix to a NetworkX graph\n",
    "    graph = nx.Graph(sparse_matrix)\n",
    "    return graph\n",
    "\n",
    "def find_maximal_k_truss(graph):\n",
    "    k = 3  # Start with the smallest non-trivial truss\n",
    "    while True:\n",
    "        # Compute k-truss decomposition\n",
    "        truss_decomposition = nx.k_truss(graph, k=k)\n",
    "\n",
    "        # Check if the set of satisfying edges is non-empty\n",
    "        satisfying_edges = truss_decomposition.edges()\n",
    "\n",
    "        if satisfying_edges:\n",
    "            # Move to the next value of k\n",
    "            k += 1\n",
    "        else:\n",
    "            # The previous value of k is the maximal k-truss\n",
    "            kmax = k - 1\n",
    "            return kmax\n",
    "\n",
    "# Example usage:\n",
    "# Specify the path to the Matrix Market file\n",
    "file_path = 'C:/Users/18521/Downloads/p2p-Gnutella08_adj.mmio'\n",
    "\n",
    "# Read the sparse matrix from the file\n",
    "sparse_matrix = read_sparse_matrix(file_path)\n",
    "\n",
    "# Convert the sparse matrix to a NetworkX graph\n",
    "graph = convert_sparse_matrix_to_graph(sparse_matrix)\n",
    "\n",
    "# Find the maximal k-truss\n",
    "maximal_k_truss = find_maximal_k_truss(graph)\n",
    "\n",
    "print(f\"The maximal k-truss (kmax) is: {maximal_k_truss}\")\n"
   ]
  },
  {
   "cell_type": "code",
   "execution_count": 6,
   "id": "72e41a69-f557-4b2c-94d1-8186c0065382",
   "metadata": {},
   "outputs": [
    {
     "name": "stdout",
     "output_type": "stream",
     "text": [
      "The maximal k-truss (kmax) is: 22\n"
     ]
    }
   ],
   "source": [
    "import networkx as nx\n",
    "import scipy.io\n",
    "\n",
    "def read_sparse_matrix(file_path):\n",
    "    # Read sparse matrix in Matrix Market format\n",
    "    mat = scipy.io.mmread(file_path)\n",
    "    return mat\n",
    "\n",
    "def convert_sparse_matrix_to_graph(sparse_matrix):\n",
    "    # Convert the sparse matrix to a NetworkX graph\n",
    "    graph = nx.Graph(sparse_matrix)\n",
    "    return graph\n",
    "\n",
    "def find_maximal_k_truss(graph):\n",
    "    k = 3  # Start with the smallest non-trivial truss\n",
    "    while True:\n",
    "        # Compute k-truss decomposition\n",
    "        truss_decomposition = nx.k_truss(graph, k=k)\n",
    "\n",
    "        # Check if the set of satisfying edges is non-empty\n",
    "        satisfying_edges = truss_decomposition.edges()\n",
    "\n",
    "        if satisfying_edges:\n",
    "            # Move to the next value of k\n",
    "            k += 1\n",
    "        else:\n",
    "            # The previous value of k is the maximal k-truss\n",
    "            kmax = k - 1\n",
    "            return kmax\n",
    "\n",
    "# Example usage:\n",
    "# Specify the path to the Matrix Market file\n",
    "file_path = 'C:/Users/18521/Downloads/email-Enron_adj.mmio'\n",
    "\n",
    "# Read the sparse matrix from the file\n",
    "sparse_matrix = read_sparse_matrix(file_path)\n",
    "\n",
    "# Convert the sparse matrix to a NetworkX graph\n",
    "graph = convert_sparse_matrix_to_graph(sparse_matrix)\n",
    "\n",
    "# Find the maximal k-truss\n",
    "maximal_k_truss = find_maximal_k_truss(graph)\n",
    "\n",
    "print(f\"The maximal k-truss (kmax) is: {maximal_k_truss}\")\n"
   ]
  },
  {
   "cell_type": "code",
   "execution_count": 7,
   "id": "c6d40fd1-4ba5-443c-a6c6-64971f038a43",
   "metadata": {},
   "outputs": [
    {
     "name": "stdout",
     "output_type": "stream",
     "text": [
      "The maximal k-truss (kmax) is: 4\n"
     ]
    }
   ],
   "source": [
    "import networkx as nx\n",
    "import scipy.io\n",
    "\n",
    "def read_sparse_matrix(file_path):\n",
    "    # Read sparse matrix in Matrix Market format\n",
    "    mat = scipy.io.mmread(file_path)\n",
    "    return mat\n",
    "\n",
    "def convert_sparse_matrix_to_graph(sparse_matrix):\n",
    "    # Convert the sparse matrix to a NetworkX graph\n",
    "    graph = nx.Graph(sparse_matrix)\n",
    "    return graph\n",
    "\n",
    "def find_maximal_k_truss(graph):\n",
    "    k = 3  # Start with the smallest non-trivial truss\n",
    "    while True:\n",
    "        # Compute k-truss decomposition\n",
    "        truss_decomposition = nx.k_truss(graph, k=k)\n",
    "\n",
    "        # Check if the set of satisfying edges is non-empty\n",
    "        satisfying_edges = truss_decomposition.edges()\n",
    "\n",
    "        if satisfying_edges:\n",
    "            # Move to the next value of k\n",
    "            k += 1\n",
    "        else:\n",
    "            # The previous value of k is the maximal k-truss\n",
    "            kmax = k - 1\n",
    "            return kmax\n",
    "\n",
    "# Example usage:\n",
    "# Specify the path to the Matrix Market file\n",
    "file_path = 'C:/Users/18521/Downloads/roadNet-PA_adj.mmio'\n",
    "\n",
    "# Read the sparse matrix from the file\n",
    "sparse_matrix = read_sparse_matrix(file_path)\n",
    "\n",
    "# Convert the sparse matrix to a NetworkX graph\n",
    "graph = convert_sparse_matrix_to_graph(sparse_matrix)\n",
    "\n",
    "# Find the maximal k-truss\n",
    "maximal_k_truss = find_maximal_k_truss(graph)\n",
    "\n",
    "print(f\"The maximal k-truss (kmax) is: {maximal_k_truss}\")\n"
   ]
  },
  {
   "cell_type": "code",
   "execution_count": 10,
   "id": "fe3e1c9f-4f07-4266-8e52-854c6502773f",
   "metadata": {},
   "outputs": [
    {
     "name": "stdout",
     "output_type": "stream",
     "text": [
      "The maximal k-truss (kmax) is: 22\n",
      "Execution time: 292.1880328655243 seconds\n"
     ]
    }
   ],
   "source": [
    "import networkx as nx\n",
    "import scipy.io\n",
    "import time\n",
    "\n",
    "def read_sparse_matrix(file_path):\n",
    "    mat = scipy.io.mmread(file_path)\n",
    "    return mat\n",
    "\n",
    "def convert_sparse_matrix_to_graph(sparse_matrix):\n",
    "    graph = nx.Graph(sparse_matrix)\n",
    "    return graph\n",
    "\n",
    "def find_maximal_k_truss(graph):\n",
    "    k = 3\n",
    "    start_time = time.time()\n",
    "    \n",
    "    while True:\n",
    "        truss_decomposition = nx.k_truss(graph, k=k)\n",
    "        satisfying_edges = truss_decomposition.edges()\n",
    "\n",
    "        if satisfying_edges:\n",
    "            k += 1\n",
    "        else:\n",
    "            kmax = k - 1\n",
    "            end_time = time.time()\n",
    "            elapsed_time = end_time - start_time\n",
    "            return kmax, elapsed_time\n",
    "\n",
    "# Example usage:\n",
    "file_path = 'C:/Users/18521/Downloads/email-Enron_adj.mmio'\n",
    "sparse_matrix = read_sparse_matrix(file_path)\n",
    "graph = convert_sparse_matrix_to_graph(sparse_matrix)\n",
    "\n",
    "maximal_k_truss, execution_time = find_maximal_k_truss(graph)\n",
    "\n",
    "print(f\"The maximal k-truss (kmax) is: {maximal_k_truss}\")\n",
    "print(f\"Execution time: {execution_time} seconds\")\n"
   ]
  },
  {
   "cell_type": "code",
   "execution_count": null,
   "id": "3ba642f8-20ef-4b39-9d42-49f6ec98941f",
   "metadata": {},
   "outputs": [],
   "source": []
  }
 ],
 "metadata": {
  "kernelspec": {
   "display_name": "Python 3 (ipykernel)",
   "language": "python",
   "name": "python3"
  },
  "language_info": {
   "codemirror_mode": {
    "name": "ipython",
    "version": 3
   },
   "file_extension": ".py",
   "mimetype": "text/x-python",
   "name": "python",
   "nbconvert_exporter": "python",
   "pygments_lexer": "ipython3",
   "version": "3.11.5"
  }
 },
 "nbformat": 4,
 "nbformat_minor": 5
}
